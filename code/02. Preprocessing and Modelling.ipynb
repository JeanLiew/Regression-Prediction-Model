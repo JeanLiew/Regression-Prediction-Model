{
 "cells": [
  {
   "cell_type": "markdown",
   "metadata": {},
   "source": [
    "# Ames Housing Price Prediction - Part 2"
   ]
  },
  {
   "cell_type": "markdown",
   "metadata": {},
   "source": [
    "## 10.0 Data Dictionary"
   ]
  },
  {
   "cell_type": "markdown",
   "metadata": {},
   "source": [
    "|Feature|Type|Dataset|Description|\n",
    "|---|---|---|---|\n",
    "|ms_zoning|object|train & test|General zoning classification of the sale| \n",
    "|lot_frontage|float| train & test | Linear feet of street connected to property|\n",
    "|street|object| train & test | type of road access to property|\n",
    "|land_contour|object| train & test | Flatness of property|\n",
    "|overall_qual|int| train & test | Rates the overall material and finish of the house (Rating from 1-10)|\n",
    "|roof_matl|object| train & test | Roof material|\n",
    "|exterior_1st|object| train & test | Exterior covering on house|\n",
    "|mas_vnr_type|object| train & test | Masonry veneer type|\n",
    "|mas_vnr_area|float| train & test | Masonry veneer area|\n",
    "|foundation|object| train & test | Type of foundation of the house|\n",
    "|bsmt_qual|int| train & test | Basement height (Rating from 0 - 6)|\n",
    "|bsmt_exposure|int| train & test | Walkout or garden level walls (Rating from 0-4)|\n",
    "|bsmtfin_sf_1|float| train & test | Type 1 finished in square feet|\n",
    "|heating|object| train & test | Type of heating in the house|\n",
    "|heating_qc|int| train & test | Heating quality or condition|\n",
    "|central_air|object| train & test | Central air condition (Y or N)|\n",
    "|gr_liv_area|int| train & test | Above ground living area square feet|\n",
    "|full_bath|int| train & test | Full bathrooms above ground|\n",
    "|fireplace_qu|int| train & test | Fireplace quality (Rating from 0-5)|\n",
    "|garage_type|object| train & test | Garage location|\n",
    "|garage_finish|int| train & test | Interior finish of the garage (Rating from 0-3))|\n",
    "|garage_area|float| train & test | Size of garage in square feet|\n",
    "|wood_deck_sf|int| train & test | Wood deck area in square feet|\n",
    "|open_porch_sf|int| train & test | Open porch area in square feet|\n",
    "|sale_type|object| train & test | Type of sale|\n",
    "|saleprice|int| train & test | Sale price in $|\n",
    "|age_built|int| train & test | Age of the house since it was built|\n",
    "|age_remod|int| train & test | Age of the house since it was modified|\n",
    "|total_sf|float| train & test | Total square feet of the house|\n",
    "|open_lot|bool| train & test | Location of the house with 3 side frontage|\n",
    "|common_lot|bool| train & test | Location of the house with 2 side frontage |\n",
    "|closed_lot|bool| train & test | Location of the house in cul de sac|\n",
    "|near_park|bool| train & test | Proximity of house near and adjacent to off-site features |\n",
    "|near_road|bool| train & test | Proximity of house near and adjacent to feeder and arterial street | "
   ]
  },
  {
   "cell_type": "markdown",
   "metadata": {},
   "source": [
    "## 11.0 Data Import"
   ]
  },
  {
   "cell_type": "code",
   "execution_count": 1,
   "metadata": {},
   "outputs": [],
   "source": [
    "import numpy as np\n",
    "import pandas as pd\n",
    "import matplotlib.pyplot as plt\n",
    "import seaborn as sns\n",
    "\n",
    "from sklearn.model_selection import train_test_split, cross_val_score\n",
    "from sklearn.preprocessing import StandardScaler\n",
    "from sklearn.linear_model import LinearRegression , Ridge, RidgeCV, Lasso, LassoCV\n",
    "from sklearn.feature_selection import RFECV\n",
    "from sklearn.metrics import mean_squared_error, mean_absolute_error\n",
    "\n",
    "pd.set_option('display.max_columns',999)\n",
    "pd.set_option('display.max_rows',100)"
   ]
  },
  {
   "cell_type": "code",
   "execution_count": 2,
   "metadata": {},
   "outputs": [],
   "source": [
    "#import cleaned dataset and final tetsing dataset\n",
    "train = pd.read_csv('../cleaned_data/train_clean.csv',na_values='',keep_default_na=False)\n",
    "hold_out = pd.read_csv('../datasets/test.csv',na_values='',keep_default_na=False)"
   ]
  },
  {
   "cell_type": "markdown",
   "metadata": {},
   "source": [
    "## 12.0 Preprocessing"
   ]
  },
  {
   "cell_type": "code",
   "execution_count": 3,
   "metadata": {},
   "outputs": [],
   "source": [
    "#splitting X, y with saleprice as target\n",
    "X = train.drop(columns='saleprice')\n",
    "y = train.saleprice"
   ]
  },
  {
   "cell_type": "code",
   "execution_count": 4,
   "metadata": {},
   "outputs": [
    {
     "data": {
      "text/plain": [
       "0    130500\n",
       "1    220000\n",
       "2    109000\n",
       "3    174000\n",
       "4    138500\n",
       "Name: saleprice, dtype: int64"
      ]
     },
     "execution_count": 4,
     "metadata": {},
     "output_type": "execute_result"
    }
   ],
   "source": [
    "#check y \n",
    "y.head()"
   ]
  },
  {
   "cell_type": "code",
   "execution_count": 5,
   "metadata": {},
   "outputs": [
    {
     "data": {
      "text/plain": [
       "Index(['ms_zoning', 'lot_frontage', 'street', 'land_contour', 'overall_qual',\n",
       "       'roof_matl', 'exterior_1st', 'mas_vnr_type', 'mas_vnr_area',\n",
       "       'foundation', 'bsmt_qual', 'bsmt_exposure', 'bsmtfin_sf_1', 'heating',\n",
       "       'heating_qc', 'central_air', 'gr_liv_area', 'full_bath', 'fireplace_qu',\n",
       "       'garage_type', 'garage_finish', 'garage_area', 'wood_deck_sf',\n",
       "       'open_porch_sf', 'sale_type', 'age_built', 'age_remod', 'total_sf',\n",
       "       'open_lot', 'common_lot', 'closed_lot', 'near_park', 'near_road'],\n",
       "      dtype='object')"
      ]
     },
     "execution_count": 5,
     "metadata": {},
     "output_type": "execute_result"
    }
   ],
   "source": [
    "X.columns"
   ]
  },
  {
   "cell_type": "code",
   "execution_count": 6,
   "metadata": {},
   "outputs": [
    {
     "name": "stdout",
     "output_type": "stream",
     "text": [
      "<class 'pandas.core.frame.DataFrame'>\n",
      "RangeIndex: 2042 entries, 0 to 2041\n",
      "Data columns (total 33 columns):\n",
      " #   Column         Non-Null Count  Dtype  \n",
      "---  ------         --------------  -----  \n",
      " 0   ms_zoning      2042 non-null   object \n",
      " 1   lot_frontage   2042 non-null   float64\n",
      " 2   street         2042 non-null   object \n",
      " 3   land_contour   2042 non-null   object \n",
      " 4   overall_qual   2042 non-null   int64  \n",
      " 5   roof_matl      2042 non-null   object \n",
      " 6   exterior_1st   2042 non-null   object \n",
      " 7   mas_vnr_type   2042 non-null   object \n",
      " 8   mas_vnr_area   2042 non-null   float64\n",
      " 9   foundation     2042 non-null   object \n",
      " 10  bsmt_qual      2042 non-null   int64  \n",
      " 11  bsmt_exposure  2042 non-null   int64  \n",
      " 12  bsmtfin_sf_1   2042 non-null   float64\n",
      " 13  heating        2042 non-null   object \n",
      " 14  heating_qc     2042 non-null   int64  \n",
      " 15  central_air    2042 non-null   object \n",
      " 16  gr_liv_area    2042 non-null   int64  \n",
      " 17  full_bath      2042 non-null   int64  \n",
      " 18  fireplace_qu   2042 non-null   int64  \n",
      " 19  garage_type    2042 non-null   object \n",
      " 20  garage_finish  2042 non-null   int64  \n",
      " 21  garage_area    2042 non-null   float64\n",
      " 22  wood_deck_sf   2042 non-null   int64  \n",
      " 23  open_porch_sf  2042 non-null   int64  \n",
      " 24  sale_type      2042 non-null   object \n",
      " 25  age_built      2042 non-null   int64  \n",
      " 26  age_remod      2042 non-null   int64  \n",
      " 27  total_sf       2042 non-null   float64\n",
      " 28  open_lot       2042 non-null   bool   \n",
      " 29  common_lot     2042 non-null   bool   \n",
      " 30  closed_lot     2042 non-null   bool   \n",
      " 31  near_park      2042 non-null   bool   \n",
      " 32  near_road      2042 non-null   bool   \n",
      "dtypes: bool(5), float64(5), int64(12), object(11)\n",
      "memory usage: 456.8+ KB\n"
     ]
    }
   ],
   "source": [
    "X.info()"
   ]
  },
  {
   "cell_type": "code",
   "execution_count": 7,
   "metadata": {},
   "outputs": [],
   "source": [
    "#function to change to one-hot encode categorical object\n",
    "cat_df = X.select_dtypes(exclude=['number','bool'])\n",
    "\n",
    "def one_hot(dataframe):\n",
    "    for i in dataframe:\n",
    "        dataframe = pd.get_dummies(dataframe, drop_first=True)\n",
    "        return dataframe"
   ]
  },
  {
   "cell_type": "code",
   "execution_count": 8,
   "metadata": {},
   "outputs": [],
   "source": [
    "X = pd.concat([X,one_hot(cat_df)],axis=1)"
   ]
  },
  {
   "cell_type": "code",
   "execution_count": 9,
   "metadata": {},
   "outputs": [],
   "source": [
    "X = X.drop(columns=cat_df)"
   ]
  },
  {
   "cell_type": "code",
   "execution_count": 10,
   "metadata": {},
   "outputs": [
    {
     "data": {
      "text/plain": [
       "74"
      ]
     },
     "execution_count": 10,
     "metadata": {},
     "output_type": "execute_result"
    }
   ],
   "source": [
    "len(X.columns)"
   ]
  },
  {
   "cell_type": "markdown",
   "metadata": {},
   "source": [
    "### 12.1 RFE CV"
   ]
  },
  {
   "cell_type": "code",
   "execution_count": null,
   "metadata": {},
   "outputs": [],
   "source": []
  },
  {
   "cell_type": "code",
   "execution_count": 11,
   "metadata": {},
   "outputs": [
    {
     "data": {
      "text/plain": [
       "RFECV(cv=5, estimator=LinearRegression(), scoring='r2')"
      ]
     },
     "execution_count": 11,
     "metadata": {},
     "output_type": "execute_result"
    }
   ],
   "source": [
    "#RFECV\n",
    "lr = LinearRegression()\n",
    "select = RFECV(lr,cv=5, scoring='r2')\n",
    "ss = StandardScaler()\n",
    "\n",
    "X_RFE = ss.fit_transform(X)\n",
    "select.fit(X_RFE, y)"
   ]
  },
  {
   "cell_type": "code",
   "execution_count": 12,
   "metadata": {
    "scrolled": true
   },
   "outputs": [
    {
     "data": {
      "text/plain": [
       "41"
      ]
     },
     "execution_count": 12,
     "metadata": {},
     "output_type": "execute_result"
    }
   ],
   "source": [
    "select.n_features_"
   ]
  },
  {
   "cell_type": "code",
   "execution_count": 13,
   "metadata": {},
   "outputs": [],
   "source": [
    "top_feat = X.columns[select.support_]"
   ]
  },
  {
   "cell_type": "code",
   "execution_count": 14,
   "metadata": {},
   "outputs": [
    {
     "data": {
      "text/plain": [
       "Index(['lot_frontage', 'overall_qual', 'mas_vnr_area', 'bsmt_qual',\n",
       "       'bsmt_exposure', 'bsmtfin_sf_1', 'heating_qc', 'gr_liv_area',\n",
       "       'full_bath', 'fireplace_qu', 'garage_area', 'wood_deck_sf',\n",
       "       'open_porch_sf', 'age_built', 'age_remod', 'total_sf', 'open_lot',\n",
       "       'common_lot', 'closed_lot', 'near_park', 'ms_zoning_RL', 'ms_zoning_RM',\n",
       "       'land_contour_HLS', 'roof_matl_WdShngl', 'exterior_1st_BrkFace',\n",
       "       'exterior_1st_CemntBd', 'exterior_1st_HdBoard', 'exterior_1st_Plywood',\n",
       "       'exterior_1st_VinylSd', 'exterior_1st_Wd Sdng', 'mas_vnr_type_BrkFace',\n",
       "       'mas_vnr_type_None', 'mas_vnr_type_Stone', 'foundation_CBlock',\n",
       "       'foundation_Slab', 'heating_OthW', 'garage_type_Attchd',\n",
       "       'garage_type_BuiltIn', 'garage_type_Detchd', 'garage_type_NA',\n",
       "       'sale_type_New'],\n",
       "      dtype='object')"
      ]
     },
     "execution_count": 14,
     "metadata": {},
     "output_type": "execute_result"
    }
   ],
   "source": [
    "top_feat"
   ]
  },
  {
   "cell_type": "markdown",
   "metadata": {},
   "source": [
    "## 13.0 Modelling "
   ]
  },
  {
   "cell_type": "markdown",
   "metadata": {},
   "source": [
    "### 13.1 Linear Regression "
   ]
  },
  {
   "cell_type": "code",
   "execution_count": 15,
   "metadata": {},
   "outputs": [],
   "source": [
    "#split train test to 80: 20 \n",
    "X_train, X_test, y_train, y_test = train_test_split(X[top_feat], y, test_size=0.2, random_state=42)"
   ]
  },
  {
   "cell_type": "code",
   "execution_count": 16,
   "metadata": {},
   "outputs": [],
   "source": [
    "#standardised\n",
    "\n",
    "sc = StandardScaler()\n",
    "Z_train = sc.fit_transform(X_train)\n",
    "Z_test = sc.transform(X_test)"
   ]
  },
  {
   "cell_type": "code",
   "execution_count": 17,
   "metadata": {},
   "outputs": [
    {
     "name": "stdout",
     "output_type": "stream",
     "text": [
      "Z_train shape is: (1633, 41)\n",
      "y_train shape is: (1633,)\n",
      "Z_test shape is: (409, 41)\n",
      "y_test shape is: (409,)\n"
     ]
    }
   ],
   "source": [
    "print(f'Z_train shape is: {Z_train.shape}')\n",
    "print(f'y_train shape is: {y_train.shape}')\n",
    "print(f'Z_test shape is: {Z_test.shape}')\n",
    "print(f'y_test shape is: {y_test.shape}')"
   ]
  },
  {
   "cell_type": "code",
   "execution_count": 18,
   "metadata": {},
   "outputs": [
    {
     "data": {
      "text/plain": [
       "0.8961879956252532"
      ]
     },
     "execution_count": 18,
     "metadata": {},
     "output_type": "execute_result"
    }
   ],
   "source": [
    "lr.fit(Z_train, y_train)\n",
    "lr.score(Z_train, y_train)"
   ]
  },
  {
   "cell_type": "code",
   "execution_count": 19,
   "metadata": {},
   "outputs": [
    {
     "data": {
      "text/plain": [
       "0.869512942135362"
      ]
     },
     "execution_count": 19,
     "metadata": {},
     "output_type": "execute_result"
    }
   ],
   "source": [
    "lr.score(Z_test, y_test)"
   ]
  },
  {
   "cell_type": "code",
   "execution_count": 20,
   "metadata": {},
   "outputs": [
    {
     "data": {
      "text/plain": [
       "0.8879180438395444"
      ]
     },
     "execution_count": 20,
     "metadata": {},
     "output_type": "execute_result"
    }
   ],
   "source": [
    "cross_val_score(estimator=lr, X=Z_train, y=y_train, cv=5, scoring='r2').mean()"
   ]
  },
  {
   "cell_type": "code",
   "execution_count": 26,
   "metadata": {},
   "outputs": [],
   "source": [
    "y_pred=lr.predict(Z_test)\n",
    "train_pred=lr.predict(Z_train)"
   ]
  },
  {
   "cell_type": "code",
   "execution_count": 30,
   "metadata": {},
   "outputs": [
    {
     "name": "stdout",
     "output_type": "stream",
     "text": [
      "======= LR =======\n",
      "LR Train Score: 0.8961879956252532\n",
      "LR Test Score: 0.869512942135362\n",
      "LR Train RMSE: 25793.54393915855\n",
      "LR Test RMSE: 27497.171676342376\n"
     ]
    }
   ],
   "source": [
    "print(\" LR \".center(18, \"=\"))\n",
    "print(f'LR Train Score: {lr.score(Z_train, y_train)}')\n",
    "print(f'LR Test Score: {lr.score(Z_test, y_test)}')\n",
    "print(f'LR Train RMSE: {np.sqrt(mean_squared_error(y_train, train_pred))}')\n",
    "print(f'LR Test RMSE: {np.sqrt(mean_squared_error(y_test, y_pred))}')"
   ]
  },
  {
   "cell_type": "markdown",
   "metadata": {},
   "source": [
    "### 13.2 Ridge Regression"
   ]
  },
  {
   "cell_type": "code",
   "execution_count": 31,
   "metadata": {
    "scrolled": true
   },
   "outputs": [
    {
     "data": {
      "text/plain": [
       "RidgeCV(alphas=array([1.00000000e+00, 1.12332403e+00, 1.26185688e+00, 1.41747416e+00,\n",
       "       1.59228279e+00, 1.78864953e+00, 2.00923300e+00, 2.25701972e+00,\n",
       "       2.53536449e+00, 2.84803587e+00, 3.19926714e+00, 3.59381366e+00,\n",
       "       4.03701726e+00, 4.53487851e+00, 5.09413801e+00, 5.72236766e+00,\n",
       "       6.42807312e+00, 7.22080902e+00, 8.11130831e+00, 9.11162756e+00,\n",
       "       1.02353102e+01, 1.14975700e+0...\n",
       "       6.89261210e+03, 7.74263683e+03, 8.69749003e+03, 9.77009957e+03,\n",
       "       1.09749877e+04, 1.23284674e+04, 1.38488637e+04, 1.55567614e+04,\n",
       "       1.74752840e+04, 1.96304065e+04, 2.20513074e+04, 2.47707636e+04,\n",
       "       2.78255940e+04, 3.12571585e+04, 3.51119173e+04, 3.94420606e+04,\n",
       "       4.43062146e+04, 4.97702356e+04, 5.59081018e+04, 6.28029144e+04,\n",
       "       7.05480231e+04, 7.92482898e+04, 8.90215085e+04, 1.00000000e+05]),\n",
       "        cv=5, scoring='r2')"
      ]
     },
     "execution_count": 31,
     "metadata": {},
     "output_type": "execute_result"
    }
   ],
   "source": [
    "ridge = Ridge(alpha=1)\n",
    "ridge.fit(Z_train, y_train)\n",
    "\n",
    "rid_cv = RidgeCV(alphas=np.logspace(0,5,100), cv=5, scoring = 'r2')\n",
    "rid_cv.fit(Z_train, y_train)"
   ]
  },
  {
   "cell_type": "code",
   "execution_count": 32,
   "metadata": {},
   "outputs": [],
   "source": [
    "ridg_pred=rid_cv.predict(Z_test)"
   ]
  },
  {
   "cell_type": "code",
   "execution_count": 33,
   "metadata": {},
   "outputs": [
    {
     "name": "stdout",
     "output_type": "stream",
     "text": [
      "====== Ridge ======\n",
      "Ridge Train Score: 0.8961866858120134\n",
      "Ridge Test Score: 0.8695807334426362\n",
      "RidgeCV Train Score: 0.8960426085803818\n",
      "RidgeCV Test Score: 0.8701694666925435\n",
      "RidgeCV Optimal Alpha: 16.297508346206442\n",
      "RidgeCV Train RMSE: 25811.59934181189\n",
      "RidgeCV Test RMSE: 27427.910658414876\n"
     ]
    }
   ],
   "source": [
    "print(\" Ridge \".center(19, \"=\"))\n",
    "print(f'Ridge Train Score: {ridge.score(Z_train, y_train)}')\n",
    "print(f'Ridge Test Score: {ridge.score(Z_test, y_test)}')\n",
    "\n",
    "print(f'RidgeCV Train Score: {rid_cv.score(Z_train, y_train)}')\n",
    "print(f'RidgeCV Test Score: {rid_cv.score(Z_test, y_test)}')\n",
    "print(f'RidgeCV Optimal Alpha: {rid_cv.alpha_}')\n",
    "\n",
    "print(f'RidgeCV Train RMSE: {np.sqrt(mean_squared_error(y_train, rid_cv.predict(Z_train)))}')\n",
    "print(f'RidgeCV Test RMSE: {np.sqrt(mean_squared_error(y_test, ridg_pred))}')"
   ]
  },
  {
   "cell_type": "markdown",
   "metadata": {},
   "source": [
    "### 13.3 Lasso Regression "
   ]
  },
  {
   "cell_type": "code",
   "execution_count": 34,
   "metadata": {},
   "outputs": [
    {
     "data": {
      "text/plain": [
       "LassoCV(alphas=array([0.01      , 0.01047616, 0.01097499, 0.01149757, 0.01204504,\n",
       "       0.01261857, 0.01321941, 0.01384886, 0.01450829, 0.01519911,\n",
       "       0.01592283, 0.01668101, 0.01747528, 0.01830738, 0.0191791 ,\n",
       "       0.02009233, 0.02104904, 0.02205131, 0.0231013 , 0.02420128,\n",
       "       0.02535364, 0.02656088, 0.02782559, 0.02915053, 0.03053856,\n",
       "       0.03199267, 0.03351603, 0.03511192, 0.0367838 , 0.03853529,\n",
       "       0.04037...\n",
       "       0.20565123, 0.21544347, 0.22570197, 0.23644894, 0.24770764,\n",
       "       0.25950242, 0.27185882, 0.28480359, 0.29836472, 0.31257158,\n",
       "       0.32745492, 0.34304693, 0.35938137, 0.37649358, 0.39442061,\n",
       "       0.41320124, 0.43287613, 0.45348785, 0.47508102, 0.49770236,\n",
       "       0.52140083, 0.54622772, 0.57223677, 0.59948425, 0.62802914,\n",
       "       0.65793322, 0.68926121, 0.7220809 , 0.75646333, 0.7924829 ,\n",
       "       0.83021757, 0.869749  , 0.91116276, 0.95454846, 1.        ]),\n",
       "        cv=5, max_iter=1000000000.0)"
      ]
     },
     "execution_count": 34,
     "metadata": {},
     "output_type": "execute_result"
    }
   ],
   "source": [
    "lasso = LassoCV(alphas=np.logspace(-2,0,100), cv=5, max_iter=10e8)\n",
    "lasso.fit(Z_train, y_train)"
   ]
  },
  {
   "cell_type": "code",
   "execution_count": 35,
   "metadata": {},
   "outputs": [],
   "source": [
    "lasso_pred=lasso.predict(Z_test)"
   ]
  },
  {
   "cell_type": "code",
   "execution_count": 36,
   "metadata": {},
   "outputs": [
    {
     "name": "stdout",
     "output_type": "stream",
     "text": [
      "====== Lasso ======\n",
      "LassoCV Train Score: 0.8961879416755527\n",
      "LassoCV Test Score: 0.8695293453429851\n",
      "LassoCV Optimal Alpha: 1.0\n",
      "LassoCV Train RMSE: 25793.550641436355\n",
      "LassoCV Test RMSE: 27495.44332105884\n"
     ]
    }
   ],
   "source": [
    "print(\" Lasso \".center(19, \"=\"))\n",
    "print(f'LassoCV Train Score: {lasso.score(Z_train, y_train)}')\n",
    "print(f'LassoCV Test Score: {lasso.score(Z_test, y_test)}')\n",
    "print(f'LassoCV Optimal Alpha: {lasso.alpha_}')\n",
    "\n",
    "print(f'LassoCV Train RMSE: {np.sqrt(mean_squared_error(y_train, lasso.predict(Z_train)))}')\n",
    "print(f'LassoCV Test RMSE: {np.sqrt(mean_squared_error(y_test, lasso_pred))}')"
   ]
  },
  {
   "cell_type": "code",
   "execution_count": 142,
   "metadata": {
    "scrolled": false
   },
   "outputs": [
    {
     "data": {
      "text/plain": [
       "age_remod               -6277\n",
       "low_neigh               -5014\n",
       "mid_neigh               -4613\n",
       "bldg_type_TwnhsE        -4061\n",
       "bldg_type_Twnhs         -2829\n",
       "bldg_type_Duplex        -2750\n",
       "common_lot              -2749\n",
       "bldg_type_2fmCon        -2485\n",
       "closed_lot                  0\n",
       "garage_type_BuiltIn      3178\n",
       "house_style_2Story       3281\n",
       "lot_frontage             3325\n",
       "exterior_1st_CemntBd     3403\n",
       "exterior_1st_BrkFace     3541\n",
       "heating_qc               3757\n",
       "high_neigh               3932\n",
       "fireplace_qu             4156\n",
       "roof_matl_WdShngl        4639\n",
       "bsmt_exposure            4765\n",
       "foundation_Slab          4991\n",
       "sale_type_New            5199\n",
       "garage_area              5300\n",
       "mas_vnr_type_BrkFace     7578\n",
       "mas_vnr_type_Stone       7830\n",
       "mas_vnr_area             9702\n",
       "bsmtfin_sf_1            10712\n",
       "mas_vnr_type_None       14319\n",
       "overall_qual            18034\n",
       "total_sf                29049\n",
       "dtype: int64"
      ]
     },
     "execution_count": 142,
     "metadata": {},
     "output_type": "execute_result"
    }
   ],
   "source": [
    "pd.Series(lasso.coef_.astype(int), top_feat).sort_values()"
   ]
  },
  {
   "cell_type": "code",
   "execution_count": null,
   "metadata": {},
   "outputs": [],
   "source": []
  },
  {
   "cell_type": "code",
   "execution_count": 187,
   "metadata": {},
   "outputs": [
    {
     "data": {
      "image/png": "[encoded data removed]",
      "text/plain": [
       "<Figure size 1440x360 with 2 Axes>"
      ]
     },
     "metadata": {
      "needs_background": "light"
     },
     "output_type": "display_data"
    }
   ],
   "source": [
    "fig, ax = plt.subplots(nrows=1, ncols=2, figsize=(20,5), sharey=True)\n",
    "\n",
    "ax = ax.flatten()\n",
    "sns.histplot(data=y, kde=True, ax=ax[0]);\n",
    "ax[0].set_title('Distribution - Sale Price')\n",
    "ax[0].set_xlabel('Sale Price')\n",
    "ax[0].set_ylabel('Count')\n",
    "\n",
    "\n",
    "norm_price = np.log(y)\n",
    "sns.histplot(data=train, x=norm_price, kde=True, ax=ax[1]);\n",
    "ax[1].set_title('Distribution - Sale Price (Log)')\n",
    "ax[1].set_xlabel('Sale Price')\n",
    "ax[1].set_xlim(-6,6)\n",
    "plt.show()"
   ]
  },
  {
   "cell_type": "markdown",
   "metadata": {},
   "source": [
    "## Evaluation of Analysis"
   ]
  },
  {
   "cell_type": "code",
   "execution_count": null,
   "metadata": {},
   "outputs": [],
   "source": []
  },
  {
   "cell_type": "markdown",
   "metadata": {},
   "source": [
    "## Conclusion and Recommendation"
   ]
  },
  {
   "cell_type": "code",
   "execution_count": 37,
   "metadata": {},
   "outputs": [],
   "source": [
    "#Calculate residual\n",
    "residual = lr.predict(Z_train) - y_train"
   ]
  },
  {
   "cell_type": "code",
   "execution_count": 38,
   "metadata": {},
   "outputs": [
    {
     "data": {
      "text/plain": [
       "<matplotlib.lines.Line2D at 0x7f9dc1e9cbb0>"
      ]
     },
     "execution_count": 38,
     "metadata": {},
     "output_type": "execute_result"
    },
    {
     "data": {
      "image/png": "[encoded data removed]",
      "text/plain": [
       "<Figure size 1080x720 with 1 Axes>"
      ]
     },
     "metadata": {
      "needs_background": "light"
     },
     "output_type": "display_data"
    }
   ],
   "source": [
    "plt.figure(figsize=(15,10))\n",
    "\n",
    "sns.scatterplot(y=residual, x=y_train)\n",
    "plt.title('Residual Plot for Training Set')\n",
    "plt.xlabel('SalePrice')\n",
    "plt.ylabel('Residuals')\n",
    "plt.axhline(0, ls= '-.',color='k',alpha = 0.5)\n",
    "plt.axvline(400000, ls= '-.',color='k',alpha = 0.5)"
   ]
  },
  {
   "cell_type": "code",
   "execution_count": null,
   "metadata": {},
   "outputs": [],
   "source": []
  }
 ],
 "metadata": {
  "kernelspec": {
   "display_name": "Python 3",
   "language": "python",
   "name": "python3"
  },
  "language_info": {
   "codemirror_mode": {
    "name": "ipython",
    "version": 3
   },
   "file_extension": ".py",
   "mimetype": "text/x-python",
   "name": "python",
   "nbconvert_exporter": "python",
   "pygments_lexer": "ipython3",
   "version": "3.8.5"
  }
 },
 "nbformat": 4,
 "nbformat_minor": 4
}
